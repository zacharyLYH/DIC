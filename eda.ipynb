{
 "cells": [
  {
   "cell_type": "code",
   "execution_count": 97,
   "metadata": {},
   "outputs": [],
   "source": [
    "import pandas as ps\n",
    "import numpy as np\n",
    "import re\n",
    "import csv"
   ]
  },
  {
   "cell_type": "code",
   "execution_count": 98,
   "metadata": {},
   "outputs": [],
   "source": [
    "def openFile(path):\n",
    "    return ps.read_csv(path)\n",
    "\n",
    "def toDF(rawData):\n",
    "    return ps.DataFrame(rawData)\n",
    "\n",
    "def dropDuplicates(rawData):\n",
    "    return toDF(rawData).drop_duplicates()\n",
    "\n",
    "def filter(df, columns):\n",
    "    return df[columns] \n",
    "\n",
    "def merge(df1, df2, protocol, on):\n",
    "    return ps.merge(df1, df2, how=protocol, on=on)\n",
    "\n",
    "def extractYear(title):\n",
    "    li = re.search('(\\d{4})', title)\n",
    "    if li:\n",
    "        return li[1]\n",
    "    return -1"
   ]
  },
  {
   "cell_type": "code",
   "execution_count": 99,
   "metadata": {},
   "outputs": [
    {
     "name": "stdout",
     "output_type": "stream",
     "text": [
      "                                                    title\n",
      "0                       Nicosia 2013 Vulkà Bianco  (Etna)\n",
      "1           Quinta dos Avidagos 2011 Avidagos Red (Douro)\n",
      "2           Rainstorm 2013 Pinot Gris (Willamette Valley)\n",
      "3       St. Julian 2013 Reserve Late Harvest Riesling ...\n",
      "4       Sweet Cheeks 2012 Vintner's Reserve Wild Child...\n",
      "...                                                   ...\n",
      "129966  Dr. H. Thanisch (Erben Müller-Burggraef) 2013 ...\n",
      "129967                  Citation 2004 Pinot Noir (Oregon)\n",
      "129968  Domaine Gresser 2013 Kritt Gewurztraminer (Als...\n",
      "129969      Domaine Marcel Deiss 2012 Pinot Gris (Alsace)\n",
      "129970  Domaine Schoffit 2012 Lieu-dit Harth Cuvée Car...\n",
      "\n",
      "[129971 rows x 1 columns]\n"
     ]
    }
   ],
   "source": [
    "rawDF = dropDuplicates(openFile('using/winemag-data-130k-v2.csv'))\n",
    "print(filter(rawDF, ['title']))"
   ]
  },
  {
   "cell_type": "code",
   "execution_count": 100,
   "metadata": {},
   "outputs": [
    {
     "name": "stdout",
     "output_type": "stream",
     "text": [
      "            id  year\n",
      "0            0  2013\n",
      "1            1  2011\n",
      "2            2  2013\n",
      "3            3  2013\n",
      "4            4  2012\n",
      "...        ...   ...\n",
      "129966  129966  2013\n",
      "129967  129967  2004\n",
      "129968  129968  2013\n",
      "129969  129969  2012\n",
      "129970  129970  2012\n",
      "\n",
      "[129971 rows x 2 columns]\n"
     ]
    }
   ],
   "source": [
    "# Extract year from dataset\n",
    "with open('using/years.csv', 'w', newline='') as file:\n",
    "    writer = csv.writer(file)\n",
    "    writer.writerow([\"id\",\"year\"])\n",
    "    for idx,row in enumerate(filter(rawDF, ['title']).itertuples(index=True, name='Pandas')):\n",
    "        writer.writerow([idx,extractYear(row.title)])\n",
    "\n",
    "newDF = openFile('using/years.csv')\n",
    "print(newDF)"
   ]
  },
  {
   "cell_type": "code",
   "execution_count": 101,
   "metadata": {},
   "outputs": [
    {
     "name": "stdout",
     "output_type": "stream",
     "text": [
      "        Unnamed: 0      id   country  \\\n",
      "0                0       0     Italy   \n",
      "1                1       1  Portugal   \n",
      "2                2       2        US   \n",
      "3                3       3        US   \n",
      "4                4       4        US   \n",
      "...            ...     ...       ...   \n",
      "129966      129966  129966   Germany   \n",
      "129967      129967  129967        US   \n",
      "129968      129968  129968    France   \n",
      "129969      129969  129969    France   \n",
      "129970      129970  129970    France   \n",
      "\n",
      "                                              description  \\\n",
      "0       Aromas include tropical fruit, broom, brimston...   \n",
      "1       This is ripe and fruity, a wine that is smooth...   \n",
      "2       Tart and snappy, the flavors of lime flesh and...   \n",
      "3       Pineapple rind, lemon pith and orange blossom ...   \n",
      "4       Much like the regular bottling from 2012, this...   \n",
      "...                                                   ...   \n",
      "129966  Notes of honeysuckle and cantaloupe sweeten th...   \n",
      "129967  Citation is given as much as a decade of bottl...   \n",
      "129968  Well-drained gravel soil gives this wine its c...   \n",
      "129969  A dry style of Pinot Gris, this is crisp with ...   \n",
      "129970  Big, rich and off-dry, this is powered by inte...   \n",
      "\n",
      "                                   designation  points  price  \\\n",
      "0                                 Vulkà Bianco      87    NaN   \n",
      "1                                     Avidagos      87   15.0   \n",
      "2                                          NaN      87   14.0   \n",
      "3                         Reserve Late Harvest      87   13.0   \n",
      "4           Vintner's Reserve Wild Child Block      87   65.0   \n",
      "...                                        ...     ...    ...   \n",
      "129966  Brauneberger Juffer-Sonnenuhr Spätlese      90   28.0   \n",
      "129967                                     NaN      90   75.0   \n",
      "129968                                   Kritt      90   30.0   \n",
      "129969                                     NaN      90   32.0   \n",
      "129970           Lieu-dit Harth Cuvée Caroline      90   21.0   \n",
      "\n",
      "                 province             region_1           region_2  \\\n",
      "0       Sicily & Sardinia                 Etna                NaN   \n",
      "1                   Douro                  NaN                NaN   \n",
      "2                  Oregon    Willamette Valley  Willamette Valley   \n",
      "3                Michigan  Lake Michigan Shore                NaN   \n",
      "4                  Oregon    Willamette Valley  Willamette Valley   \n",
      "...                   ...                  ...                ...   \n",
      "129966              Mosel                  NaN                NaN   \n",
      "129967             Oregon               Oregon       Oregon Other   \n",
      "129968             Alsace               Alsace                NaN   \n",
      "129969             Alsace               Alsace                NaN   \n",
      "129970             Alsace               Alsace                NaN   \n",
      "\n",
      "               taster_name taster_twitter_handle  \\\n",
      "0            Kerin O’Keefe          @kerinokeefe   \n",
      "1               Roger Voss            @vossroger   \n",
      "2             Paul Gregutt           @paulgwine    \n",
      "3       Alexander Peartree                   NaN   \n",
      "4             Paul Gregutt           @paulgwine    \n",
      "...                    ...                   ...   \n",
      "129966  Anna Lee C. Iijima                   NaN   \n",
      "129967        Paul Gregutt           @paulgwine    \n",
      "129968          Roger Voss            @vossroger   \n",
      "129969          Roger Voss            @vossroger   \n",
      "129970          Roger Voss            @vossroger   \n",
      "\n",
      "                                                    title         variety  \\\n",
      "0                       Nicosia 2013 Vulkà Bianco  (Etna)     White Blend   \n",
      "1           Quinta dos Avidagos 2011 Avidagos Red (Douro)  Portuguese Red   \n",
      "2           Rainstorm 2013 Pinot Gris (Willamette Valley)      Pinot Gris   \n",
      "3       St. Julian 2013 Reserve Late Harvest Riesling ...        Riesling   \n",
      "4       Sweet Cheeks 2012 Vintner's Reserve Wild Child...      Pinot Noir   \n",
      "...                                                   ...             ...   \n",
      "129966  Dr. H. Thanisch (Erben Müller-Burggraef) 2013 ...        Riesling   \n",
      "129967                  Citation 2004 Pinot Noir (Oregon)      Pinot Noir   \n",
      "129968  Domaine Gresser 2013 Kritt Gewurztraminer (Als...  Gewürztraminer   \n",
      "129969      Domaine Marcel Deiss 2012 Pinot Gris (Alsace)      Pinot Gris   \n",
      "129970  Domaine Schoffit 2012 Lieu-dit Harth Cuvée Car...  Gewürztraminer   \n",
      "\n",
      "                                          winery  year  \n",
      "0                                        Nicosia  2013  \n",
      "1                            Quinta dos Avidagos  2011  \n",
      "2                                      Rainstorm  2013  \n",
      "3                                     St. Julian  2013  \n",
      "4                                   Sweet Cheeks  2012  \n",
      "...                                          ...   ...  \n",
      "129966  Dr. H. Thanisch (Erben Müller-Burggraef)  2013  \n",
      "129967                                  Citation  2004  \n",
      "129968                           Domaine Gresser  2013  \n",
      "129969                      Domaine Marcel Deiss  2012  \n",
      "129970                          Domaine Schoffit  2012  \n",
      "\n",
      "[129971 rows x 16 columns]\n"
     ]
    }
   ],
   "source": [
    "# Merge the two datasets\n",
    "final = merge(rawDF, newDF, 'outer', \"id\")\n",
    "# print(final)\n",
    "final.to_csv('using/cleaned.csv')\n",
    "print(openFile('using/cleaned.csv'))"
   ]
  },
  {
   "attachments": {},
   "cell_type": "markdown",
   "metadata": {},
   "source": [
    "Using price, points, variety, region1, country, winery, year. Drop everything else."
   ]
  },
  {
   "cell_type": "code",
   "execution_count": 103,
   "metadata": {},
   "outputs": [
    {
     "name": "stdout",
     "output_type": "stream",
     "text": [
      "        price  points         variety             region_1   country  \\\n",
      "0         NaN      87     White Blend                 Etna     Italy   \n",
      "1        15.0      87  Portuguese Red                  NaN  Portugal   \n",
      "2        14.0      87      Pinot Gris    Willamette Valley        US   \n",
      "3        13.0      87        Riesling  Lake Michigan Shore        US   \n",
      "4        65.0      87      Pinot Noir    Willamette Valley        US   \n",
      "...       ...     ...             ...                  ...       ...   \n",
      "129966   28.0      90        Riesling                  NaN   Germany   \n",
      "129967   75.0      90      Pinot Noir               Oregon        US   \n",
      "129968   30.0      90  Gewürztraminer               Alsace    France   \n",
      "129969   32.0      90      Pinot Gris               Alsace    France   \n",
      "129970   21.0      90  Gewürztraminer               Alsace    France   \n",
      "\n",
      "                                          winery  year  \n",
      "0                                        Nicosia  2013  \n",
      "1                            Quinta dos Avidagos  2011  \n",
      "2                                      Rainstorm  2013  \n",
      "3                                     St. Julian  2013  \n",
      "4                                   Sweet Cheeks  2012  \n",
      "...                                          ...   ...  \n",
      "129966  Dr. H. Thanisch (Erben Müller-Burggraef)  2013  \n",
      "129967                                  Citation  2004  \n",
      "129968                           Domaine Gresser  2013  \n",
      "129969                      Domaine Marcel Deiss  2012  \n",
      "129970                          Domaine Schoffit  2012  \n",
      "\n",
      "[129971 rows x 7 columns]\n"
     ]
    }
   ],
   "source": [
    "df = filter(toDF(openFile('using/cleaned.csv')), [\"price\", \"points\", \"variety\", \"region_1\", \"country\", \"winery\", \"year\"])\n",
    "print(df)"
   ]
  },
  {
   "attachments": {},
   "cell_type": "markdown",
   "metadata": {},
   "source": [
    "Cleaning checklist\n",
    "- Dropped duplicates\n",
    "- Added years to a cleaned csv\n",
    "- Dropped unnecessary columns"
   ]
  }
 ],
 "metadata": {
  "kernelspec": {
   "display_name": "Python 3",
   "language": "python",
   "name": "python3"
  },
  "language_info": {
   "codemirror_mode": {
    "name": "ipython",
    "version": 3
   },
   "file_extension": ".py",
   "mimetype": "text/x-python",
   "name": "python",
   "nbconvert_exporter": "python",
   "pygments_lexer": "ipython3",
   "version": "3.9.13"
  },
  "orig_nbformat": 4,
  "vscode": {
   "interpreter": {
    "hash": "f30c2b9cbe4629f6e9cf277293233476e83888d9f2ad1dea62841663227fcf2b"
   }
  }
 },
 "nbformat": 4,
 "nbformat_minor": 2
}
